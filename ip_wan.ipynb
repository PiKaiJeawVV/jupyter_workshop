{
 "cells": [
  {
   "cell_type": "code",
   "execution_count": 12,
   "metadata": {},
   "outputs": [],
   "source": [
    "import requests\n",
    "import pandas as pd"
   ]
  },
  {
   "cell_type": "code",
   "execution_count": 13,
   "metadata": {},
   "outputs": [],
   "source": [
    "response = requests.get('http://ipinfo.io')\n",
    "www = response.json()\n",
    "#print(www)"
   ]
  },
  {
   "cell_type": "code",
   "execution_count": 15,
   "metadata": {},
   "outputs": [
    {
     "name": "stdout",
     "output_type": "stream",
     "text": [
      "               ip                                        hostname  \\\n",
      "0  184.22.176.235  184-22-176-0.24.nat.tls1a-cgn01.myaisfibre.com   \n",
      "\n",
      "           city        region country               loc                 org  \\\n",
      "0  Samut Prakan  Samut Prakan      TH  13.5976,100.5972  AS133481 AIS Fibre   \n",
      "\n",
      "  postal      timezone                         readme  \n",
      "0  10270  Asia/Bangkok  https://ipinfo.io/missingauth  \n"
     ]
    }
   ],
   "source": [
    "results = pd.json_normalize(www)\n",
    "df = pd.DataFrame(results)\n",
    "print(df)"
   ]
  }
 ],
 "metadata": {
  "kernelspec": {
   "display_name": "Python 3",
   "language": "python",
   "name": "python3"
  },
  "language_info": {
   "codemirror_mode": {
    "name": "ipython",
    "version": 3
   },
   "file_extension": ".py",
   "mimetype": "text/x-python",
   "name": "python",
   "nbconvert_exporter": "python",
   "pygments_lexer": "ipython3",
   "version": "3.9.6"
  }
 },
 "nbformat": 4,
 "nbformat_minor": 2
}
