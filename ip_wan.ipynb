{
 "cells": [
  {
   "cell_type": "code",
   "execution_count": 1,
   "metadata": {},
   "outputs": [],
   "source": [
    "import requests\n",
    "import pandas as pd"
   ]
  },
  {
   "cell_type": "code",
   "execution_count": 2,
   "metadata": {},
   "outputs": [
    {
     "name": "stdout",
     "output_type": "stream",
     "text": [
      "{'ip': '184.22.176.235', 'hostname': '184-22-176-0.24.nat.tls1a-cgn01.myaisfibre.com', 'city': 'Samut Prakan', 'region': 'Samut Prakan', 'country': 'TH', 'loc': '13.5976,100.5972', 'org': 'AS133481 AIS Fibre', 'postal': '10270', 'timezone': 'Asia/Bangkok', 'readme': 'https://ipinfo.io/missingauth'}\n"
     ]
    }
   ],
   "source": [
    "response = requests.get('http://ipinfo.io')\n",
    "ip = response.json()\n",
    "print(ip)"
   ]
  },
  {
   "cell_type": "code",
   "execution_count": 3,
   "metadata": {},
   "outputs": [
    {
     "name": "stdout",
     "output_type": "stream",
     "text": [
      "               ip                                        hostname  \\\n",
      "0  184.22.176.235  184-22-176-0.24.nat.tls1a-cgn01.myaisfibre.com   \n",
      "\n",
      "           city        region country               loc                 org  \\\n",
      "0  Samut Prakan  Samut Prakan      TH  13.5976,100.5972  AS133481 AIS Fibre   \n",
      "\n",
      "  postal      timezone                         readme  \n",
      "0  10270  Asia/Bangkok  https://ipinfo.io/missingauth  \n"
     ]
    }
   ],
   "source": [
    "results = pd.json_normalize(ip)\n",
    "df = pd.DataFrame(results)\n",
    "print(df)"
   ]
  },
  {
   "cell_type": "code",
   "execution_count": null,
   "metadata": {},
   "outputs": [],
   "source": []
  }
 ],
 "metadata": {
  "kernelspec": {
   "display_name": "Python 3 (ipykernel)",
   "language": "python",
   "name": "python3"
  },
  "language_info": {
   "codemirror_mode": {
    "name": "ipython",
    "version": 3
   },
   "file_extension": ".py",
   "mimetype": "text/x-python",
   "name": "python",
   "nbconvert_exporter": "python",
   "pygments_lexer": "ipython3",
   "version": "3.9.6"
  }
 },
 "nbformat": 4,
 "nbformat_minor": 4
}
