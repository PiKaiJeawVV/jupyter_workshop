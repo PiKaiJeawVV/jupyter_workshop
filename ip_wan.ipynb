{
 "cells": [
  {
   "cell_type": "code",
   "execution_count": 1,
   "metadata": {},
   "outputs": [],
   "source": [
    "import requests\n",
    "import pandas as pd"
   ]
  },
  {
   "cell_type": "code",
   "execution_count": 2,
   "metadata": {},
   "outputs": [
    {
     "name": "stdout",
     "output_type": "stream",
     "text": [
      "{'ip': '184.22.161.25', 'hostname': '184-22-161-0.24.nat.tls1a-cgn02.myaisfibre.com', 'city': 'Bangkok', 'region': 'Bangkok', 'country': 'TH', 'loc': '13.7540,100.5014', 'org': 'AS133481 AIS Fibre', 'postal': '10200', 'timezone': 'Asia/Bangkok', 'readme': 'https://ipinfo.io/missingauth'}\n"
     ]
    }
   ],
   "source": [
    "response = requests.get('http://ipinfo.io')\n",
    "ip = response.json()\n",
    "print(ip)"
   ]
  },
  {
   "cell_type": "code",
   "execution_count": 4,
   "metadata": {},
   "outputs": [
    {
     "name": "stdout",
     "output_type": "stream",
     "text": [
      "              ip                                        hostname     city  \\\n",
      "0  184.22.161.25  184-22-161-0.24.nat.tls1a-cgn02.myaisfibre.com  Bangkok   \n",
      "\n",
      "    region country               loc                 org postal      timezone  \\\n",
      "0  Bangkok      TH  13.7540,100.5014  AS133481 AIS Fibre  10200  Asia/Bangkok   \n",
      "\n",
      "                          readme  \n",
      "0  https://ipinfo.io/missingauth  \n"
     ]
    }
   ],
   "source": [
    "results = pd.json_normalize(ip)\n",
    "df = pd.DataFrame(results)\n",
    "print(df)"
   ]
  }
 ],
 "metadata": {
  "kernelspec": {
   "display_name": "Python 3 (ipykernel)",
   "language": "python",
   "name": "python3"
  },
  "language_info": {
   "codemirror_mode": {
    "name": "ipython",
    "version": 3
   },
   "file_extension": ".py",
   "mimetype": "text/x-python",
   "name": "python",
   "nbconvert_exporter": "python",
   "pygments_lexer": "ipython3",
   "version": "3.9.6"
  }
 },
 "nbformat": 4,
 "nbformat_minor": 4
}
